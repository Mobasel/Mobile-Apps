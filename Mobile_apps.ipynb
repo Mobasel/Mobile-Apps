{
 "cells": [
  {
   "cell_type": "markdown",
   "id": "2cc057ba",
   "metadata": {},
   "source": [
    "- We started by opening and reading the files that contain the data, then, we listed them in a list of lists.\n"
   ]
  },
  {
   "cell_type": "code",
   "execution_count": 1,
   "id": "fb5359ed",
   "metadata": {},
   "outputs": [],
   "source": [
    "from csv import reader\n",
    "from csv import reader\n",
    "\n",
    "open_apple = open('AppleStore.csv', encoding='utf8')\n",
    "open_google = open('googleplaystore.csv', encoding='utf8')\n",
    "\n",
    "read_apple = reader(open_apple)\n",
    "read_google = reader(open_google)\n",
    "\n",
    "list_apple = list(read_apple)\n",
    "list_google = list(read_google)\n",
    "\n",
    "apple_header = list_apple[0]\n",
    "apple = list_apple[1:]\n",
    "\n",
    "google_header = list_google[0]\n",
    "google = list_google[1:]\n",
    "open_apple = open('AppleStore.csv', encoding='utf8')\n",
    "open_google = open('googleplaystore.csv', encoding='utf8')\n",
    "\n",
    "read_apple = reader(open_apple)\n",
    "read_google = reader(open_google)\n",
    "\n",
    "list_apple = list(read_apple)\n",
    "list_google = list(read_google)"
   ]
  },
  {
   "cell_type": "markdown",
   "id": "2f128a55",
   "metadata": {},
   "source": [
    "- In the next step, we created a function to make sure of the last step, and to explore what we just opened and listed."
   ]
  },
  {
   "cell_type": "code",
   "execution_count": 2,
   "id": "379beb14",
   "metadata": {},
   "outputs": [],
   "source": [
    "def explore_data(dataset, start, end, rows_and_columns=False):\n",
    "    dataset_slice = dataset[start:end]    \n",
    "    for row in dataset_slice:\n",
    "        print(row)\n",
    "        print('\\n') # adds a new (empty) line after each row\n",
    "\n",
    "    if rows_and_columns:\n",
    "        print('Number of rows:', len(dataset))\n",
    "        print('Number of columns:', len(dataset[0]))"
   ]
  },
  {
   "cell_type": "markdown",
   "id": "d2b26778",
   "metadata": {},
   "source": [
    "- Here we trying our function on the apple store apps."
   ]
  },
  {
   "cell_type": "code",
   "execution_count": 3,
   "id": "8dfdbbf5",
   "metadata": {},
   "outputs": [
    {
     "name": "stdout",
     "output_type": "stream",
     "text": [
      "['389801252', 'Instagram', '113954816', 'USD', '0.0', '2161558', '1289', '4.5', '4.0', '10.23', '12+', 'Photo & Video', '37', '0', '29', '1']\n",
      "\n",
      "\n",
      "['529479190', 'Clash of Clans', '116476928', 'USD', '0.0', '2130805', '579', '4.5', '4.5', '9.24.12', '9+', 'Games', '38', '5', '18', '1']\n",
      "\n",
      "\n",
      "['420009108', 'Temple Run', '65921024', 'USD', '0.0', '1724546', '3842', '4.5', '4.0', '1.6.2', '9+', 'Games', '40', '5', '1', '1']\n",
      "\n",
      "\n",
      "Number of rows: 7197\n",
      "Number of columns: 16\n"
     ]
    }
   ],
   "source": [
    "explore_apple = explore_data(apple, 1, 4, True)"
   ]
  },
  {
   "cell_type": "markdown",
   "id": "4c7dfff9",
   "metadata": {},
   "source": [
    "- Trying the last step again, but, on google play apps."
   ]
  },
  {
   "cell_type": "code",
   "execution_count": 4,
   "id": "b631888d",
   "metadata": {},
   "outputs": [
    {
     "name": "stdout",
     "output_type": "stream",
     "text": [
      "['Coloring book moana', 'ART_AND_DESIGN', '3.9', '967', '14M', '500,000+', 'Free', '0', 'Everyone', 'Art & Design;Pretend Play', 'January 15, 2018', '2.0.0', '4.0.3 and up']\n",
      "\n",
      "\n",
      "['U Launcher Lite – FREE Live Cool Themes, Hide Apps', 'ART_AND_DESIGN', '4.7', '87510', '8.7M', '5,000,000+', 'Free', '0', 'Everyone', 'Art & Design', 'August 1, 2018', '1.2.4', '4.0.3 and up']\n",
      "\n",
      "\n",
      "['Sketch - Draw & Paint', 'ART_AND_DESIGN', '4.5', '215644', '25M', '50,000,000+', 'Free', '0', 'Teen', 'Art & Design', 'June 8, 2018', 'Varies with device', '4.2 and up']\n",
      "\n",
      "\n",
      "Number of rows: 10841\n",
      "Number of columns: 13\n"
     ]
    }
   ],
   "source": [
    "explore_google = explore_data(google, 1, 4, True)"
   ]
  },
  {
   "cell_type": "markdown",
   "id": "387c4a2b",
   "metadata": {},
   "source": [
    "- Let's explore the column names to identify which columns could help us while we analyzing the apps. "
   ]
  },
  {
   "cell_type": "code",
   "execution_count": 5,
   "id": "f9f02acc",
   "metadata": {},
   "outputs": [
    {
     "name": "stdout",
     "output_type": "stream",
     "text": [
      "['id', 'track_name', 'size_bytes', 'currency', 'price', 'rating_count_tot', 'rating_count_ver', 'user_rating', 'user_rating_ver', 'ver', 'cont_rating', 'prime_genre', 'sup_devices.num', 'ipadSc_urls.num', 'lang.num', 'vpp_lic']\n",
      "\n",
      "\n",
      "['App', 'Category', 'Rating', 'Reviews', 'Size', 'Installs', 'Type', 'Price', 'Content Rating', 'Genres', 'Last Updated', 'Current Ver', 'Android Ver']\n"
     ]
    }
   ],
   "source": [
    "print(apple_header)\n",
    "print('\\n')\n",
    "print(google_header)"
   ]
  },
  {
   "cell_type": "markdown",
   "id": "4ef27339",
   "metadata": {},
   "source": [
    "We see that the Google Play data set has 10841 apps and 13 columns. At a quick glance, the columns that might be useful for the purpose of our analysis are **App, Category, Reviews, Installs, Type, Price, and Genres.** Check the data set [documentation](https://www.kaggle.com/datasets/lava18/google-play-store-apps)\n",
    "\n",
    "We have 7197 iOS apps in this data set, and the columns that seem interesting are: **track_name, currency, price, rating_count_tot, rating_count_ver, and prime_genre.** Not all column names are self-explanatory in this case, but details about each column can be found in the data set [documentation](https://www.kaggle.com/datasets/ramamet4/app-store-apple-data-set-10k-apps)"
   ]
  },
  {
   "cell_type": "markdown",
   "id": "299bd804",
   "metadata": {},
   "source": [
    "# Cleaning Our Data\n"
   ]
  },
  {
   "cell_type": "markdown",
   "id": "a03f0859",
   "metadata": {},
   "source": [
    "- we found an issue in the index #10472 in google apps data. The rating in that index was missed, so, we deleted that index by using del statement."
   ]
  },
  {
   "cell_type": "code",
   "execution_count": 6,
   "id": "0464ca09",
   "metadata": {},
   "outputs": [
    {
     "name": "stdout",
     "output_type": "stream",
     "text": [
      "['Life Made WI-Fi Touchscreen Photo Frame', '1.9', '19', '3.0M', '1,000+', 'Free', '0', 'Everyone', '', 'February 11, 2018', '1.0.19', '4.0 and up']\n"
     ]
    }
   ],
   "source": [
    "print(google[10472])"
   ]
  },
  {
   "cell_type": "code",
   "execution_count": 7,
   "id": "d71aa87b",
   "metadata": {},
   "outputs": [],
   "source": [
    "del google[10472]"
   ]
  },
  {
   "cell_type": "code",
   "execution_count": 8,
   "id": "0d0de142",
   "metadata": {},
   "outputs": [
    {
     "name": "stdout",
     "output_type": "stream",
     "text": [
      "['osmino Wi-Fi: free WiFi', 'TOOLS', '4.2', '134203', '4.1M', '10,000,000+', 'Free', '0', 'Everyone', 'Tools', 'August 7, 2018', '6.06.14', '4.4 and up']\n"
     ]
    }
   ],
   "source": [
    "print(google[10472])"
   ]
  },
  {
   "cell_type": "markdown",
   "id": "fd4f3bcc",
   "metadata": {},
   "source": [
    "## Duplicated data\n",
    "- There are a lot of duplicated data and the following code will show us an example of Instagram which is duplicated 4 times."
   ]
  },
  {
   "cell_type": "code",
   "execution_count": 9,
   "id": "71799351",
   "metadata": {},
   "outputs": [
    {
     "name": "stdout",
     "output_type": "stream",
     "text": [
      "['Instagram', 'SOCIAL', '4.5', '66577313', 'Varies with device', '1,000,000,000+', 'Free', '0', 'Teen', 'Social', 'July 31, 2018', 'Varies with device', 'Varies with device']\n",
      "['Instagram', 'SOCIAL', '4.5', '66577446', 'Varies with device', '1,000,000,000+', 'Free', '0', 'Teen', 'Social', 'July 31, 2018', 'Varies with device', 'Varies with device']\n",
      "['Instagram', 'SOCIAL', '4.5', '66577313', 'Varies with device', '1,000,000,000+', 'Free', '0', 'Teen', 'Social', 'July 31, 2018', 'Varies with device', 'Varies with device']\n",
      "['Instagram', 'SOCIAL', '4.5', '66509917', 'Varies with device', '1,000,000,000+', 'Free', '0', 'Teen', 'Social', 'July 31, 2018', 'Varies with device', 'Varies with device']\n"
     ]
    }
   ],
   "source": [
    "for app in google:\n",
    "    name = app[0]\n",
    "    if name == 'Instagram':\n",
    "        print(app)"
   ]
  },
  {
   "cell_type": "markdown",
   "id": "f532f48c",
   "metadata": {},
   "source": [
    "## Duplicated list:\n",
    "- As shown below, the duplicated list have 1181 duplicated application, which need to be removed."
   ]
  },
  {
   "cell_type": "code",
   "execution_count": 10,
   "id": "e02ded3e",
   "metadata": {},
   "outputs": [
    {
     "name": "stdout",
     "output_type": "stream",
     "text": [
      "All duplicated =  1181 , examples: ['Quick PDF Scanner + OCR FREE', 'Box', 'Google My Business', 'ZOOM Cloud Meetings', 'join.me - Simple Meetings', 'Box', 'Zenefits', 'Google Ads', 'Google My Business', 'Slack', 'FreshBooks Classic', 'Insightly CRM', 'QuickBooks Accounting: Invoicing & Expenses', 'HipChat - Chat Built for Teams', 'Xero Accounting Software']\n"
     ]
    }
   ],
   "source": [
    "duplicated = []\n",
    "unique = []\n",
    "for app in google:\n",
    "    name = app[0]\n",
    "    if name in unique:\n",
    "        duplicated.append(name)\n",
    "    elif name not in unique:\n",
    "        unique.append(name)\n",
    "print(\"All duplicated = \", len(duplicated),', examples:',duplicated[:15])"
   ]
  },
  {
   "cell_type": "markdown",
   "id": "da483ab3",
   "metadata": {},
   "source": [
    "- We can use another criterion to remove the duplicated application, instead of using the application name, we can use the reviews count to keep the application that has the highest number of the reviews which will be the most updated one.\n",
    "\n",
    "Also, we can use the last update column to keep the last update application and remove the duplicated applications which has the an old updated date."
   ]
  },
  {
   "cell_type": "markdown",
   "id": "4f4ea792",
   "metadata": {},
   "source": [
    "# Remove the duplicate with another method\n",
    "As we explained above, we can use another method to remove the duplicated application from our dataset, below, we will use the reviews count to remove the duplicated application.\n",
    "If the reviews count was the highest, that means we have the last updated row of that application in the dataset, so, we will remove any other rows for the app with lower reviews.\n",
    "- Below, we will:\n",
    "- Create a dictionary where each key is a unique app name, and the value is the highest number of reviews of that app\n",
    "- Use the dictionary to create a new data set, which will have only one entry per app (and we only select the apps with the highest number of reviews)"
   ]
  },
  {
   "cell_type": "code",
   "execution_count": 11,
   "id": "560aa3ae",
   "metadata": {},
   "outputs": [
    {
     "name": "stdout",
     "output_type": "stream",
     "text": [
      "9659\n"
     ]
    }
   ],
   "source": [
    "reviews_max = {}\n",
    "for app in google:\n",
    "    name = app[0]\n",
    "    n_reviews = float(app[3])\n",
    "    if name in reviews_max and reviews_max[name] < n_reviews:\n",
    "        reviews_max[name] = n_reviews\n",
    "        \n",
    "    elif name not in reviews_max:\n",
    "        reviews_max[name] = n_reviews\n",
    "        \n",
    "print(len(reviews_max))"
   ]
  },
  {
   "cell_type": "markdown",
   "id": "7cdf9c5d",
   "metadata": {},
   "source": [
    "- After creating the dictionary, we can use it to create the new data set, so, below, we will:\n",
    "- Start by initializing two empty lists, android_clean and already_added.\n",
    "- Loop through the android data set, and for every iteration:\n",
    "- We isolate the name of the app and the number of reviews.\n",
    "- We add the current row (app) to the android_clean list, and the app name (name) to the already_added list if:\n",
    "- The number of reviews of the current app matches the number of reviews of that app as described in the reviews_max dictionary; and The name of the app is not already in the already_added list. We need to add this supplementary condition to account for those cases where the highest number of reviews of a duplicate app is the same for more than one entry (for example, the Box app has three entries, and the number of reviews is the same). If we just check for reviews_max[name] == n_reviews, we'll still end up with duplicate entries for some apps."
   ]
  },
  {
   "cell_type": "code",
   "execution_count": 12,
   "id": "90e59216",
   "metadata": {},
   "outputs": [
    {
     "name": "stdout",
     "output_type": "stream",
     "text": [
      "9659\n",
      "[['Photo Editor & Candy Camera & Grid & ScrapBook', 'ART_AND_DESIGN', '4.1', '159', '19M', '10,000+', 'Free', '0', 'Everyone', 'Art & Design', 'January 7, 2018', '1.0.0', '4.0.3 and up'], ['U Launcher Lite – FREE Live Cool Themes, Hide Apps', 'ART_AND_DESIGN', '4.7', '87510', '8.7M', '5,000,000+', 'Free', '0', 'Everyone', 'Art & Design', 'August 1, 2018', '1.2.4', '4.0.3 and up'], ['Sketch - Draw & Paint', 'ART_AND_DESIGN', '4.5', '215644', '25M', '50,000,000+', 'Free', '0', 'Teen', 'Art & Design', 'June 8, 2018', 'Varies with device', '4.2 and up']]\n"
     ]
    }
   ],
   "source": [
    "android_clean = [] #our new cleaned data set\n",
    "already_added = [] #it will just store the names of the apps\n",
    "\n",
    "for app in google:\n",
    "    name = app[0]\n",
    "    n_reviews = float(app[3])\n",
    "    \n",
    "    if n_reviews == reviews_max[name] and name not in already_added:\n",
    "        android_clean.append(app)\n",
    "        already_added.append(name)\n",
    "\n",
    "\n",
    "print(len(android_clean))\n",
    "print(android_clean[:3])"
   ]
  },
  {
   "cell_type": "markdown",
   "id": "55837842",
   "metadata": {},
   "source": [
    "# Checking the English apps only. Part 1."
   ]
  },
  {
   "cell_type": "code",
   "execution_count": 13,
   "id": "76b001d7",
   "metadata": {},
   "outputs": [
    {
     "data": {
      "text/plain": [
       "False"
      ]
     },
     "execution_count": 13,
     "metadata": {},
     "output_type": "execute_result"
    }
   ],
   "source": [
    "def check_names(our_string):\n",
    "    for chara in our_string:\n",
    "        name = ord(chara)\n",
    "        if name >= 127:\n",
    "            return False\n",
    "    return True\n",
    "\n",
    "check_names('Instagram')\n",
    "check_names('爱奇艺PPS -《欢乐颂2》电视剧热播')\n",
    "check_names('Docs To Go™ Free Office Suite')\n",
    "check_names('Instachat 😜')      "
   ]
  },
  {
   "cell_type": "markdown",
   "id": "2d24c5b5",
   "metadata": {},
   "source": [
    "# Checking the English apps only. Part 2."
   ]
  },
  {
   "cell_type": "code",
   "execution_count": 14,
   "id": "0101dab6",
   "metadata": {},
   "outputs": [
    {
     "data": {
      "text/plain": [
       "True"
      ]
     },
     "execution_count": 14,
     "metadata": {},
     "output_type": "execute_result"
    }
   ],
   "source": [
    "def check_namess(our_string):\n",
    "    count_chara = 0\n",
    "    \n",
    "    for chara in our_string:\n",
    "        name = ord(chara)\n",
    "        if name >= 127:\n",
    "            count_chara += 1\n",
    "            \n",
    "    if count_chara > 3:\n",
    "        return False\n",
    "    \n",
    "    return True\n",
    "\n",
    "check_namess('Instagram')\n",
    "check_namess('爱奇艺PPS -《欢乐颂2》电视剧热播')\n",
    "check_namess('Docs To Go™ Free Office Suite')\n",
    "check_namess('Instachat 😜')  "
   ]
  },
  {
   "cell_type": "markdown",
   "id": "9c132a1c",
   "metadata": {},
   "source": [
    "# Apply the previous function on our data set"
   ]
  },
  {
   "cell_type": "code",
   "execution_count": 15,
   "id": "a21d2897",
   "metadata": {},
   "outputs": [
    {
     "name": "stdout",
     "output_type": "stream",
     "text": [
      "[['Photo Editor & Candy Camera & Grid & ScrapBook', 'ART_AND_DESIGN', '4.1', '159', '19M', '10,000+', 'Free', '0', 'Everyone', 'Art & Design', 'January 7, 2018', '1.0.0', '4.0.3 and up'], ['U Launcher Lite – FREE Live Cool Themes, Hide Apps', 'ART_AND_DESIGN', '4.7', '87510', '8.7M', '5,000,000+', 'Free', '0', 'Everyone', 'Art & Design', 'August 1, 2018', '1.2.4', '4.0.3 and up'], ['Sketch - Draw & Paint', 'ART_AND_DESIGN', '4.5', '215644', '25M', '50,000,000+', 'Free', '0', 'Teen', 'Art & Design', 'June 8, 2018', 'Varies with device', '4.2 and up']]\n",
      "\n",
      "\n",
      "9614\n",
      "\n",
      "\n",
      "[['284882215', 'Facebook', '389879808', 'USD', '0.0', '2974676', '212', '3.5', '3.5', '95.0', '4+', 'Social Networking', '37', '1', '29', '1'], ['389801252', 'Instagram', '113954816', 'USD', '0.0', '2161558', '1289', '4.5', '4.0', '10.23', '12+', 'Photo & Video', '37', '0', '29', '1'], ['529479190', 'Clash of Clans', '116476928', 'USD', '0.0', '2130805', '579', '4.5', '4.5', '9.24.12', '9+', 'Games', '38', '5', '18', '1']]\n",
      "\n",
      "\n",
      "6183\n"
     ]
    }
   ],
   "source": [
    "english_google = []\n",
    "english_apple = []\n",
    "\n",
    "for app in android_clean:\n",
    "    if check_namess(app[0]):\n",
    "        english_google.append(app)\n",
    "        \n",
    "print(english_google[:3])\n",
    "print('\\n')\n",
    "print(len(english_google)) \n",
    "\n",
    "\n",
    "for app in apple:\n",
    "    if check_namess(app[1]):\n",
    "        english_apple.append(app)\n",
    "        \n",
    "print('\\n')\n",
    "print(english_apple[:3])\n",
    "print('\\n')\n",
    "print(len(english_apple)) "
   ]
  },
  {
   "cell_type": "markdown",
   "id": "050847ba",
   "metadata": {},
   "source": [
    "# Isolating the Free Apps"
   ]
  },
  {
   "cell_type": "code",
   "execution_count": 16,
   "id": "82a5773a",
   "metadata": {},
   "outputs": [
    {
     "name": "stdout",
     "output_type": "stream",
     "text": [
      "8864\n",
      "3222\n"
     ]
    }
   ],
   "source": [
    "free_google = []\n",
    "non_free_google = []\n",
    "\n",
    "free_apple = []\n",
    "non_free_apple = []\n",
    "\n",
    "for app in english_google:\n",
    "    free = app[7]\n",
    "    \n",
    "    if free != '0':\n",
    "        non_free_google.append(app)\n",
    "    else:\n",
    "        free_google.append(app)\n",
    "        \n",
    "for app in english_apple:\n",
    "    price = app[4]\n",
    "    \n",
    "    if price != '0.0':\n",
    "        non_free_apple.append(app)\n",
    "    else:\n",
    "        free_apple.append(app)\n",
    "        \n",
    "print(len(free_google))\n",
    "print(len(free_apple))\n"
   ]
  },
  {
   "cell_type": "markdown",
   "id": "f5def595",
   "metadata": {},
   "source": [
    "# Most Common Apps by Genre: Part One\n",
    "- In the following steps, we will find the most common apps genre in both google play and apple store.\n",
    "- Finding the most common apps genre will help us to determine the nature of the app that we need to create to reach to the most users to increase our revenue. \n",
    "- Let's beging by creating frequency tables for some columns to find the most applications have the same genres."
   ]
  },
  {
   "cell_type": "code",
   "execution_count": 17,
   "id": "13e5f13a",
   "metadata": {},
   "outputs": [
    {
     "name": "stdout",
     "output_type": "stream",
     "text": [
      "['App', 'Category', 'Rating', 'Reviews', 'Size', 'Installs', 'Type', 'Price', 'Content Rating', 'Genres', 'Last Updated', 'Current Ver', 'Android Ver']\n",
      "\n",
      "\n",
      "['id', 'track_name', 'size_bytes', 'currency', 'price', 'rating_count_tot', 'rating_count_ver', 'user_rating', 'user_rating_ver', 'ver', 'cont_rating', 'prime_genre', 'sup_devices.num', 'ipadSc_urls.num', 'lang.num', 'vpp_lic']\n"
     ]
    }
   ],
   "source": [
    "print(google_header)\n",
    "print('\\n')\n",
    "print(apple_header)"
   ]
  },
  {
   "cell_type": "markdown",
   "id": "dc54ae37",
   "metadata": {},
   "source": [
    "- It seems that we need to make frequency tables for the category, rating, reviews and genres for google play data set.\n",
    "- For Apple Store, we need to make frequency tables for 'rating_count_tot', 'user_rating' and 'prime_genre'."
   ]
  },
  {
   "cell_type": "code",
   "execution_count": 18,
   "id": "835ccf65",
   "metadata": {},
   "outputs": [],
   "source": [
    "google_genres = []\n",
    "google_category = []\n",
    "apple_genre = []\n",
    "\n",
    "for app in free_google:\n",
    "    genre = app[9]\n",
    "    if genre not in google_genres:\n",
    "        google_genres.append(genre)\n",
    "for app in free_google:\n",
    "    category = app[1]\n",
    "    if category not in google_category:\n",
    "        google_category.append(category)\n",
    "\n",
    "for app in free_apple:\n",
    "    genre = app[11]\n",
    "    if genre not in apple_genre:\n",
    "        apple_genre.append(genre)\n",
    "        \n",
    "#print(google_genres)\n",
    "#print('\\n')\n",
    "#print(google_category)\n",
    "#print('\\n')\n",
    "#print(apple_genre)"
   ]
  },
  {
   "cell_type": "code",
   "execution_count": 19,
   "id": "e3197589",
   "metadata": {},
   "outputs": [],
   "source": [
    "google_genre_dic = {}\n",
    "google_categ_dic = {}\n",
    "apple_genre_dic  = {}\n",
    "\n",
    "for genre in google_genres:\n",
    "    google_genre_dic[genre] = 0\n",
    "for categ in google_category:\n",
    "    google_categ_dic[categ] = 0\n",
    "for genre in apple_genre:\n",
    "    apple_genre_dic[genre] = 0\n",
    "    \n",
    "#print(google_genre_dic)\n",
    "#print('\\n')\n",
    "#print(google_categ_dic)\n",
    "#print('\\n')\n",
    "#print(apple_genre_dic)"
   ]
  },
  {
   "cell_type": "code",
   "execution_count": 20,
   "id": "fd880613",
   "metadata": {},
   "outputs": [
    {
     "name": "stdout",
     "output_type": "stream",
     "text": [
      "{'Social Networking': 106, 'Photo & Video': 160, 'Games': 1874, 'Music': 66, 'Reference': 18, 'Health & Fitness': 65, 'Weather': 28, 'Utilities': 81, 'Travel': 40, 'Shopping': 84, 'News': 43, 'Navigation': 6, 'Lifestyle': 51, 'Entertainment': 254, 'Food & Drink': 26, 'Sports': 69, 'Book': 14, 'Finance': 36, 'Education': 118, 'Productivity': 56, 'Business': 17, 'Catalogs': 4, 'Medical': 6}\n"
     ]
    }
   ],
   "source": [
    "for app in free_google:\n",
    "    genre = app[9]\n",
    "    \n",
    "    for name in google_genre_dic:\n",
    "        if name == genre:\n",
    "            google_genre_dic[name] += 1\n",
    "            \n",
    "            \n",
    "for app in free_google:\n",
    "    category = app[1]\n",
    "    \n",
    "    for name in google_categ_dic:\n",
    "        if name == category:\n",
    "            google_categ_dic[name] += 1\n",
    "            \n",
    "\n",
    "for app in free_apple:\n",
    "    genre = app[11]\n",
    "    \n",
    "    for name in apple_genre_dic:\n",
    "        if name == genre:\n",
    "            apple_genre_dic[name] += 1\n",
    "            \n",
    "#print(google_genre_dic)\n",
    "#print('\\n')\n",
    "#print(google_categ_dic)\n",
    "#print('\\n')\n",
    "print(apple_genre_dic)"
   ]
  },
  {
   "cell_type": "markdown",
   "id": "11dcd42c",
   "metadata": {},
   "source": [
    "# Let's try another method by creating a function"
   ]
  },
  {
   "cell_type": "code",
   "execution_count": 21,
   "id": "a363fec1",
   "metadata": {},
   "outputs": [
    {
     "name": "stdout",
     "output_type": "stream",
     "text": [
      "{'Social Networking': 106, 'Photo & Video': 160, 'Games': 1874, 'Music': 66, 'Reference': 18, 'Health & Fitness': 65, 'Weather': 28, 'Utilities': 81, 'Travel': 40, 'Shopping': 84, 'News': 43, 'Navigation': 6, 'Lifestyle': 51, 'Entertainment': 254, 'Food & Drink': 26, 'Sports': 69, 'Book': 14, 'Finance': 36, 'Education': 118, 'Productivity': 56, 'Business': 17, 'Catalogs': 4, 'Medical': 6}\n"
     ]
    }
   ],
   "source": [
    "def genras(data_set, index):\n",
    "    our_frequency_table = {}\n",
    "    \n",
    "    for app in data_set:\n",
    "        name = app[index]\n",
    "        \n",
    "        if name in our_frequency_table:\n",
    "            our_frequency_table[name] += 1\n",
    "        elif name not in our_frequency_table:\n",
    "            our_frequency_table[name] = 1 \n",
    "            \n",
    "    return our_frequency_table\n",
    "\n",
    "print(genras(free_apple, 11))"
   ]
  },
  {
   "cell_type": "markdown",
   "id": "2b7ac8e7",
   "metadata": {},
   "source": [
    "# Let's display our function with percentage instead of numbers."
   ]
  },
  {
   "cell_type": "code",
   "execution_count": 22,
   "id": "0f6c320c",
   "metadata": {},
   "outputs": [
    {
     "data": {
      "text/plain": [
       "{'Social Networking': 3.2898820608317814,\n",
       " 'Photo & Video': 4.9658597144630665,\n",
       " 'Games': 58.16263190564867,\n",
       " 'Music': 2.0484171322160147,\n",
       " 'Reference': 0.5586592178770949,\n",
       " 'Health & Fitness': 2.0173805090006205,\n",
       " 'Weather': 0.8690254500310366,\n",
       " 'Utilities': 2.5139664804469275,\n",
       " 'Travel': 1.2414649286157666,\n",
       " 'Shopping': 2.60707635009311,\n",
       " 'News': 1.3345747982619491,\n",
       " 'Navigation': 0.186219739292365,\n",
       " 'Lifestyle': 1.5828677839851024,\n",
       " 'Entertainment': 7.883302296710118,\n",
       " 'Food & Drink': 0.8069522036002483,\n",
       " 'Sports': 2.1415270018621975,\n",
       " 'Book': 0.4345127250155183,\n",
       " 'Finance': 1.1173184357541899,\n",
       " 'Education': 3.662321539416512,\n",
       " 'Productivity': 1.7380509000620732,\n",
       " 'Business': 0.5276225946617008,\n",
       " 'Catalogs': 0.12414649286157665,\n",
       " 'Medical': 0.186219739292365}"
      ]
     },
     "execution_count": 22,
     "metadata": {},
     "output_type": "execute_result"
    }
   ],
   "source": [
    "def genras(data_set, index):\n",
    "    our_frequency_table = {}\n",
    "    total = 0\n",
    "    for app in data_set:\n",
    "        name = app[index]\n",
    "        total += 1\n",
    "        if name in our_frequency_table:\n",
    "            our_frequency_table[name] += 1\n",
    "        elif name not in our_frequency_table:\n",
    "            our_frequency_table[name] = 1\n",
    "            \n",
    "    percentage_table = {}\n",
    "    \n",
    "    for entry in our_frequency_table:\n",
    "        percentage = (our_frequency_table[entry] / total) * 100\n",
    "        percentage_table[entry] = percentage\n",
    "        \n",
    "    return percentage_table\n",
    "\n",
    "genras(free_apple, 11)\n"
   ]
  },
  {
   "cell_type": "markdown",
   "id": "0fbb10a1",
   "metadata": {},
   "source": [
    "# We can use another function to sort the result of the last function"
   ]
  },
  {
   "cell_type": "code",
   "execution_count": 23,
   "id": "c97c4cfa",
   "metadata": {},
   "outputs": [],
   "source": [
    "def display_table(dataset, index):\n",
    "    freq_table = genras(dataset, index)\n",
    "    our_new_list_of_tuple = []\n",
    "    for key in freq_table:\n",
    "        our_tuple = (freq_table[key], key)\n",
    "        our_new_list_of_tuple.append(our_tuple)\n",
    "        \n",
    "    sorted_data = sorted(our_new_list_of_tuple, reverse = True)\n",
    "    \n",
    "    for entry in sorted_data:\n",
    "        print(entry[1], \":\", entry[0])\n",
    "        \n",
    "#display_table(free_apple, 11)\n",
    "#print('\\n')\n",
    "#display_table(free_google, 1)\n",
    "#print('\\n')\n",
    "#display_table(free_google, 9)"
   ]
  },
  {
   "cell_type": "markdown",
   "id": "8384a681",
   "metadata": {},
   "source": [
    "# Most Popular Apps by Genre on the App Store"
   ]
  },
  {
   "cell_type": "code",
   "execution_count": 24,
   "id": "1e3463cb",
   "metadata": {},
   "outputs": [
    {
     "name": "stdout",
     "output_type": "stream",
     "text": [
      "Social Networking : 71548.34905660378\n",
      "Photo & Video : 28441.54375\n",
      "Games : 22788.6696905016\n",
      "Music : 57326.530303030304\n",
      "Reference : 74942.11111111111\n",
      "Health & Fitness : 23298.015384615384\n",
      "Weather : 52279.892857142855\n",
      "Utilities : 18684.456790123455\n",
      "Travel : 28243.8\n",
      "Shopping : 26919.690476190477\n",
      "News : 21248.023255813954\n",
      "Navigation : 86090.33333333333\n",
      "Lifestyle : 16485.764705882353\n",
      "Entertainment : 14029.830708661417\n",
      "Food & Drink : 33333.92307692308\n",
      "Sports : 23008.898550724636\n",
      "Book : 39758.5\n",
      "Finance : 31467.944444444445\n",
      "Education : 7003.983050847458\n",
      "Productivity : 21028.410714285714\n",
      "Business : 7491.117647058823\n",
      "Catalogs : 4004.0\n",
      "Medical : 612.0\n"
     ]
    }
   ],
   "source": [
    "our_apple_genre = genras(free_apple, 11)\n",
    "\n",
    "for genre in our_apple_genre:\n",
    "    total = 0\n",
    "    len_genre = 0\n",
    "    \n",
    "    for app in free_apple:\n",
    "        genre_app = app[11]\n",
    "        \n",
    "        if genre_app == genre:\n",
    "            \n",
    "            rating = float(app[5])\n",
    "            total += rating\n",
    "            len_genre += 1\n",
    "    \n",
    "    average_rating = total / len_genre\n",
    "\n",
    "    print(genre, ':', average_rating)"
   ]
  },
  {
   "cell_type": "markdown",
   "id": "d249b3cb",
   "metadata": {},
   "source": [
    "# Most Popular Apps by Genre on Google Play"
   ]
  },
  {
   "cell_type": "code",
   "execution_count": 25,
   "id": "52fafa49",
   "metadata": {},
   "outputs": [
    {
     "name": "stdout",
     "output_type": "stream",
     "text": [
      "ART_AND_DESIGN : 1986335.0877192982\n",
      "AUTO_AND_VEHICLES : 647317.8170731707\n",
      "BEAUTY : 513151.88679245283\n",
      "BOOKS_AND_REFERENCE : 8767811.894736841\n",
      "BUSINESS : 1712290.1474201474\n",
      "COMICS : 817657.2727272727\n",
      "COMMUNICATION : 38456119.167247385\n",
      "DATING : 854028.8303030303\n",
      "EDUCATION : 1833495.145631068\n",
      "ENTERTAINMENT : 11640705.88235294\n",
      "EVENTS : 253542.22222222222\n",
      "FINANCE : 1387692.475609756\n",
      "FOOD_AND_DRINK : 1924897.7363636363\n",
      "HEALTH_AND_FITNESS : 4188821.9853479853\n",
      "HOUSE_AND_HOME : 1331540.5616438356\n",
      "LIBRARIES_AND_DEMO : 638503.734939759\n",
      "LIFESTYLE : 1437816.2687861272\n",
      "GAME : 15588015.603248259\n",
      "FAMILY : 3695641.8198090694\n",
      "MEDICAL : 120550.61980830671\n",
      "SOCIAL : 23253652.127118643\n",
      "SHOPPING : 7036877.311557789\n",
      "PHOTOGRAPHY : 17840110.40229885\n",
      "SPORTS : 3638640.1428571427\n",
      "TRAVEL_AND_LOCAL : 13984077.710144928\n",
      "TOOLS : 10801391.298666667\n",
      "PERSONALIZATION : 5201482.6122448975\n",
      "PRODUCTIVITY : 16787331.344927534\n",
      "PARENTING : 542603.6206896552\n",
      "WEATHER : 5074486.197183099\n",
      "VIDEO_PLAYERS : 24727872.452830188\n",
      "NEWS_AND_MAGAZINES : 9549178.467741935\n",
      "MAPS_AND_NAVIGATION : 4056941.7741935486\n"
     ]
    }
   ],
   "source": [
    "our_google_category = genras(free_google, 1)\n",
    "\n",
    "for app in our_google_category:\n",
    "    total = 0\n",
    "    len_cat = 0\n",
    "    \n",
    "    for category in free_google:\n",
    "        catt = category[1]\n",
    "        \n",
    "        if catt == app:\n",
    "            installs = category[5]\n",
    "            installs = installs.replace('+','')\n",
    "            installs = installs.replace(',','')\n",
    "            installs = float(installs)\n",
    "            total += installs\n",
    "            len_cat += 1\n",
    "            \n",
    "    average_caty = total/len_cat\n",
    "    print(app, ':', average_caty)\n"
   ]
  },
  {
   "cell_type": "code",
   "execution_count": null,
   "id": "89119821",
   "metadata": {},
   "outputs": [],
   "source": []
  },
  {
   "cell_type": "code",
   "execution_count": null,
   "id": "befe5991",
   "metadata": {},
   "outputs": [],
   "source": []
  }
 ],
 "metadata": {
  "kernelspec": {
   "display_name": "Python 3 (ipykernel)",
   "language": "python",
   "name": "python3"
  },
  "language_info": {
   "codemirror_mode": {
    "name": "ipython",
    "version": 3
   },
   "file_extension": ".py",
   "mimetype": "text/x-python",
   "name": "python",
   "nbconvert_exporter": "python",
   "pygments_lexer": "ipython3",
   "version": "3.12.4"
  }
 },
 "nbformat": 4,
 "nbformat_minor": 5
}
